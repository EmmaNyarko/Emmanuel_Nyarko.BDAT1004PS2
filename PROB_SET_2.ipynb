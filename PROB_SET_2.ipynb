{
 "cells": [
  {
   "cell_type": "markdown",
   "id": "374fcd52",
   "metadata": {},
   "source": [
    "# QUESTION 1"
   ]
  },
  {
   "cell_type": "code",
   "execution_count": 1,
   "id": "0ca733d6",
   "metadata": {},
   "outputs": [
    {
     "data": {
      "text/plain": [
       "6"
      ]
     },
     "execution_count": 1,
     "metadata": {},
     "output_type": "execute_result"
    }
   ],
   "source": [
    "a=0\n",
    "def b():\n",
    "    global a\n",
    "    a=c(a)\n",
    "\n",
    "def c(a):\n",
    "    return a + 2\n",
    "\n",
    "b()              # after this statement a values changes to 2\n",
    "b()              #after this,a value further increments by 2 and becomes 4\n",
    "b()              #after this,a values increase by 2 and becomes 6\n",
    "a                #a value gets printed which is 6"
   ]
  },
  {
   "cell_type": "markdown",
   "id": "93ce3c06",
   "metadata": {},
   "source": [
    "# QUESTION 2"
   ]
  },
  {
   "cell_type": "code",
   "execution_count": 2,
   "id": "7590b285",
   "metadata": {},
   "outputs": [
    {
     "name": "stdout",
     "output_type": "stream",
     "text": [
      "123\n",
      "File ilelength.txt not found\n"
     ]
    }
   ],
   "source": [
    "def filelength(file_name):\n",
    "    try:\n",
    "        file = open(file_name)\n",
    "        contents = file.read()\n",
    "        file.close()\n",
    "        print(len(contents))\n",
    "    except:\n",
    "        print(\"File\",file_name,\"not found\")       #this line throws an exception if interpreter is unable to find file\n",
    "        \n",
    "filelength('Filelength.txt') \n",
    "\n",
    "filelength('ilelength.txt')"
   ]
  },
  {
   "cell_type": "markdown",
   "id": "f09512a6",
   "metadata": {},
   "source": [
    "# QUESTION 3"
   ]
  },
  {
   "cell_type": "code",
   "execution_count": 3,
   "id": "63074269",
   "metadata": {},
   "outputs": [
    {
     "name": "stdout",
     "output_type": "stream",
     "text": [
      "['doll', 'firetruck', 'kitten']\n",
      "I am a Kangaroo located at coordinates (0, 0)\n",
      " \n",
      "['doll', 'firetruck', 'kitten']\n",
      "I am a Kangaroo located at coordinates (3, 0)\n",
      " \n"
     ]
    }
   ],
   "source": [
    "class Marsupial:\n",
    "    def __init__(self):\n",
    "        self.pouch = []    \n",
    "    def put_in_pouch(self, val):        \n",
    "        self.pouch.append(val)    \n",
    "    def pouch_contents(self):        \n",
    "        print(self.pouch)\n",
    "        \n",
    "m = Marsupial()  \n",
    "m.put_in_pouch(\"doll\")    \n",
    "m.put_in_pouch(\"firetruck\")    \n",
    "m.put_in_pouch(\"kitten\")    \n",
    "m.pouch_contents()\n",
    "\n",
    "    \n",
    "class Kangaroo(Marsupial):\n",
    "    def __init__(self, x, y):        \n",
    "        super().__init__()        \n",
    "        self.coordx = x        \n",
    "        self.coordy = y    \n",
    "    def jump(self, dx, dy):        \n",
    "        self.coordx = self.coordx + dx        \n",
    "        self.coordy = self.coordy + dy    \n",
    "    def __str__(self):       \n",
    "        print(\"I am a Kangaroo located at coordinates (%d, %d)\" %(self.coordx, self.coordy))\n",
    "        return \" \"\n",
    "k = Kangaroo(0,0)\n",
    "print(k)\n",
    "k.put_in_pouch(\"doll\")\n",
    "k.put_in_pouch(\"firetruck\")\n",
    "k.put_in_pouch(\"kitten\")\n",
    "k.pouch_contents()\n",
    "k.jump(1, 0)\n",
    "k.jump(1, 0)\n",
    "k.jump(1, 0)\n",
    "print(k)"
   ]
  },
  {
   "cell_type": "markdown",
   "id": "b978b80c",
   "metadata": {},
   "source": [
    "# QUESTION 4"
   ]
  },
  {
   "cell_type": "code",
   "execution_count": 5,
   "id": "688562e4",
   "metadata": {},
   "outputs": [
    {
     "name": "stdout",
     "output_type": "stream",
     "text": [
      "1\n",
      "\n",
      "10\n",
      "5\n",
      "16\n",
      "8\n",
      "4\n",
      "2\n",
      "1\n"
     ]
    }
   ],
   "source": [
    "def collatz(x):\n",
    "    print(x)\n",
    "    if x == 1:\n",
    "        return\n",
    "    elif x % 2 == 0:\n",
    "        collatz(x // 2)\n",
    "    else:\n",
    "        collatz(3 * x + 1)\n",
    "\n",
    "# Testing the function\n",
    "collatz(1)  \n",
    "print()  # for newline\n",
    "collatz(10)  "
   ]
  },
  {
   "cell_type": "markdown",
   "id": "dba4478a",
   "metadata": {},
   "source": [
    "# QUESTION 5"
   ]
  },
  {
   "cell_type": "code",
   "execution_count": 6,
   "id": "cd4d3a85",
   "metadata": {},
   "outputs": [
    {
     "name": "stdout",
     "output_type": "stream",
     "text": [
      "0\n",
      "1\n",
      "11\n",
      "1001\n"
     ]
    }
   ],
   "source": [
    "def binary(number):\n",
    "    \n",
    "    if number == 0:\n",
    "        return 0\n",
    "                  \n",
    "    else:\n",
    "        return (number % 2 + 10 *binary(int(number // 2)))       #recursive function to give the binary number\n",
    "    \n",
    "  \n",
    "       \n",
    "print(binary(0))\n",
    "\n",
    "print(binary(1))\n",
    "\n",
    "print(binary(3))\n",
    "\n",
    "print(binary(9))"
   ]
  },
  {
   "cell_type": "markdown",
   "id": "9c9ddc6d",
   "metadata": {},
   "source": [
    "# QUESTION 6"
   ]
  },
  {
   "cell_type": "code",
   "execution_count": 8,
   "id": "f047bb63",
   "metadata": {},
   "outputs": [
    {
     "name": "stdout",
     "output_type": "stream",
     "text": [
      "W3C Mission\n",
      " Principles\n"
     ]
    }
   ],
   "source": [
    "from html.parser import HTMLParser\n",
    "class HeadingParser(HTMLParser):\n",
    "    indent = -6 \n",
    "        \n",
    "    def handle_starttag(self, tag, attrs): # function to assign indentation according to heading tag\n",
    "        if tag == 'h1':\n",
    "            self.indent = 0\n",
    "        elif tag == 'h2':\n",
    "            self.indent = 1\n",
    "        elif tag == 'h3':\n",
    "            self.indent = 2\n",
    "        elif tag == 'h4':\n",
    "            self.indent = 3\n",
    "        elif tag == 'h5':\n",
    "            self.indent = 4            \n",
    "        elif tag == 'h6':\n",
    "            self.indent = 5\n",
    "        else:\n",
    "            self.indent = -6\n",
    "               \n",
    "\n",
    "    def handle_data(self, data):\n",
    "        if data.strip() != \"\":\n",
    "            printWithIndentation(data, self.indent) #calling function to print heading\n",
    "        \n",
    "\n",
    "def printWithIndentation(text, indent):\n",
    "    if indent >= 0:\n",
    "        print(f\"{' ' * indent}{text}\")      #printing heading with intentation \n",
    "\n",
    "input_file = open('w3c.html') \n",
    "content = input_file.read() \n",
    "input_file.close() \n",
    "\n",
    "headingParser = HeadingParser()\n",
    "headingParser.feed(content)"
   ]
  },
  {
   "cell_type": "markdown",
   "id": "f42e32f5",
   "metadata": {},
   "source": [
    "# QUESTION 7"
   ]
  },
  {
   "cell_type": "code",
   "execution_count": 9,
   "id": "6aaa0692",
   "metadata": {},
   "outputs": [
    {
     "name": "stdout",
     "output_type": "stream",
     "text": [
      "http://reed.cs.depaul.edu/lperkovic/csc242/test1.html\n"
     ]
    }
   ],
   "source": [
    "import requests\n",
    "from bs4 import BeautifulSoup\n",
    "\n",
    "def webdir(url, depth, indent):\n",
    "    if depth == 0:\n",
    "        return\n",
    "    print(' ' * indent + url)\n",
    "    try:\n",
    "        response = requests.get(url)\n",
    "        content = response.content\n",
    "        soup = BeautifulSoup(content, 'html.parser')\n",
    "        links = soup.find_all('a')\n",
    "        for link in links:\n",
    "            href = link.get('href')\n",
    "            if href and href.startswith('http'):\n",
    "                webdir(href, depth - 1, indent + 1)\n",
    "    except requests.exceptions.RequestException as e:\n",
    "        print(f\"Error accessing {url}: {e}\")\n",
    "\n",
    "# Testing the function\n",
    "webdir('http://reed.cs.depaul.edu/lperkovic/csc242/test1.html', 2, 0)\n"
   ]
  },
  {
   "cell_type": "markdown",
   "id": "ba0485df",
   "metadata": {},
   "source": [
    "# QUESTION 8"
   ]
  },
  {
   "cell_type": "code",
   "execution_count": 20,
   "id": "ffd3e5e3",
   "metadata": {},
   "outputs": [
    {
     "name": "stdout",
     "output_type": "stream",
     "text": [
      "All the temperature data: [(24.8,), (28.4,), (27.9,), (27.6,), (4.2,), (8.3,), (15.7,), (10.4,), (13.6,), (20.7,), (27.7,), (22.2,)]\n",
      "All the cities, but without repetition: [('Mumbai',), ('London',), ('Cairo',)]\n",
      "All the records for India: [('Mumbai', 'India', 'Winter', 24.8, 5.9), ('Mumbai', 'India', 'Spring', 28.4, 16.2), ('Mumbai', 'India', 'Summer', 27.9, 1549.4), ('Mumbai', 'India', 'Fall', 27.6, 346.0)]\n",
      "All the Fall records: [('Mumbai', 'India', 'Fall', 27.6, 346.0), ('London', 'United Kingdom', 'Fall', 10.4, 218.5), ('Cairo', 'Egypt', 'Fall', 22.2, 4.5)]\n",
      "Average rainfall between 200 and 400 mm: [('Mumbai', 'India', 'Fall'), ('London', 'United Kingdom', 'Winter'), ('London', 'United Kingdom', 'Fall')]\n",
      "Fall temperature above 20 degrees: [('Cairo', 'Egypt'), ('Mumbai', 'India')]\n",
      "Total annual rainfall for Cairo: (27.6,)\n",
      "Total rainfall for each season: [('Fall', 569.0), ('Spring', 192.29999999999998), ('Summer', 1706.5), ('Winter', 230.1)]\n"
     ]
    }
   ],
   "source": [
    "import sqlite3\n",
    "\n",
    "def setup_database():\n",
    "    # Connect to SQLite database (or create it if it doesn't exist)\n",
    "    conn = sqlite3.connect('weather.db')\n",
    "    cursor = conn.cursor()\n",
    "\n",
    "    # Create table\n",
    "    cursor.execute('''\n",
    "        CREATE TABLE IF NOT EXISTS Weather (\n",
    "            City TEXT,\n",
    "            Country TEXT,\n",
    "            Season TEXT,\n",
    "            Temperature REAL,\n",
    "            Rainfall REAL\n",
    "        )\n",
    "    ''')\n",
    "\n",
    "    # Clear the table if it already exists to prevent duplicates\n",
    "    cursor.execute('DELETE FROM Weather')\n",
    "\n",
    "    # Insert data\n",
    "    data = [\n",
    "        ('Mumbai', 'India', 'Winter', 24.8, 5.9),\n",
    "        ('Mumbai', 'India', 'Spring', 28.4, 16.2),\n",
    "        ('Mumbai', 'India', 'Summer', 27.9, 1549.4),\n",
    "        ('Mumbai', 'India', 'Fall', 27.6, 346.0),\n",
    "        ('London', 'United Kingdom', 'Winter', 4.2, 207.7),\n",
    "        ('London', 'United Kingdom', 'Spring', 8.3, 169.6),\n",
    "        ('London', 'United Kingdom', 'Summer', 15.7, 157.0),\n",
    "        ('London', 'United Kingdom', 'Fall', 10.4, 218.5),\n",
    "        ('Cairo', 'Egypt', 'Winter', 13.6, 16.5),\n",
    "        ('Cairo', 'Egypt', 'Spring', 20.7, 6.5),\n",
    "        ('Cairo', 'Egypt', 'Summer', 27.7, 0.1),\n",
    "        ('Cairo', 'Egypt', 'Fall', 22.2, 4.5)\n",
    "    ]\n",
    "    cursor.executemany('INSERT INTO Weather VALUES (?,?,?,?,?)', data)\n",
    "\n",
    "    # Commit changes to the database\n",
    "    conn.commit()\n",
    "    conn.close()\n",
    "\n",
    "def run_queries():\n",
    "    # Connect to the database\n",
    "    conn = sqlite3.connect('weather.db')\n",
    "    cursor = conn.cursor()\n",
    "\n",
    "    # Query a) All the temperature data\n",
    "    cursor.execute('SELECT Temperature FROM Weather')\n",
    "    temperatures = cursor.fetchall()\n",
    "    print(\"All the temperature data:\", temperatures)\n",
    "\n",
    "    # Query b) All the cities, but without repetition\n",
    "    cursor.execute('SELECT DISTINCT City FROM Weather')\n",
    "    cities = cursor.fetchall()\n",
    "    print(\"All the cities, but without repetition:\", cities)\n",
    "\n",
    "    # Query c) All the records for India\n",
    "    cursor.execute(\"SELECT * FROM Weather WHERE Country = 'India'\")\n",
    "    india_records = cursor.fetchall()\n",
    "    print(\"All the records for India:\", india_records)\n",
    "\n",
    "    # Query d) All the Fall records\n",
    "    cursor.execute(\"SELECT * FROM Weather WHERE Season = 'Fall'\")\n",
    "    fall_records = cursor.fetchall()\n",
    "    print(\"All the Fall records:\", fall_records)\n",
    "\n",
    "    # Query e) The city, country, and season for which the average rainfall is between 200 and 400 millimeters\n",
    "    cursor.execute(\"SELECT City, Country, Season FROM Weather WHERE Rainfall BETWEEN 200 AND 400\")\n",
    "    rainfall_records = cursor.fetchall()\n",
    "    print(\"Average rainfall between 200 and 400 mm:\", rainfall_records)\n",
    "\n",
    "    # Query f) The city and country for which the average Fall temperature is above 20 degrees, in increasing temperature order\n",
    "    cursor.execute(\"SELECT City, Country FROM Weather WHERE Season = 'Fall' AND Temperature > 20 ORDER BY Temperature ASC\")\n",
    "    fall_temp_records = cursor.fetchall()\n",
    "    print(\"Fall temperature above 20 degrees:\", fall_temp_records)\n",
    "\n",
    "    # Query g) The total annual rainfall for Cairo\n",
    "    cursor.execute(\"SELECT SUM(Rainfall) AS Total_Annual_Rainfall FROM Weather WHERE City = 'Cairo'\")\n",
    "    cairo_rainfall = cursor.fetchone()\n",
    "    print(\"Total annual rainfall for Cairo:\", cairo_rainfall)\n",
    "\n",
    "    # Query h) The total rainfall for each season\n",
    "    cursor.execute(\"SELECT Season, SUM(Rainfall) AS Total_Rainfall FROM Weather GROUP BY Season\")\n",
    "    seasonal_rainfall = cursor.fetchall()\n",
    "    print(\"Total rainfall for each season:\", seasonal_rainfall)\n",
    "\n",
    "    # Close the connection\n",
    "    conn.close()\n",
    "\n",
    "# Execute the functions\n",
    "setup_database()\n",
    "run_queries()\n"
   ]
  },
  {
   "cell_type": "markdown",
   "id": "aff31ac3",
   "metadata": {},
   "source": [
    "# QUESTION 9"
   ]
  },
  {
   "cell_type": "code",
   "execution_count": 21,
   "id": "73565376",
   "metadata": {},
   "outputs": [
    {
     "name": "stdout",
     "output_type": "stream",
     "text": [
      "['THE', 'QUICK', 'BROWN', 'FOX', 'JUMPS', 'OVER', 'THE', 'LAZY', 'DOG']\n",
      "['the', 'quick', 'brown', 'fox', 'jumps', 'over', 'the', 'lazy', 'dog']\n",
      "[3, 5, 5, 3, 5, 4, 3, 4, 3]\n",
      "[['THE', 'the', 3], ['QUICK', 'quick', 5], ['BROWN', 'brown', 5], ['FOX', 'fox', 3], ['JUMPS', 'jumps', 5], ['OVER', 'over', 4], ['THE', 'the', 3], ['LAZY', 'lazy', 4], ['DOG', 'dog', 3]]\n",
      "['quick', 'brown', 'jumps', 'over', 'lazy']\n"
     ]
    }
   ],
   "source": [
    "words = ['The', 'quick', 'brown', 'fox', 'jumps', 'over', 'the', 'lazy', 'dog']\n",
    "\n",
    "## changes to uppercase\n",
    "uppercase_words=[word.upper() for word in words]\n",
    "print (uppercase_words)\n",
    "\n",
    "\n",
    "## changes to lowercases\n",
    "lowercase_words=[word.lower() for word in words]\n",
    "print (lowercase_words)\n",
    "\n",
    "##containing length of words\n",
    "\n",
    "length_of_words=[len(word) for word in words]\n",
    "print (length_of_words)\n",
    "\n",
    "\n",
    "## containing upper,lower, length of words\n",
    "werd=[[word.upper(),word.lower(),len(word)] for word in words]\n",
    "print(werd)\n",
    "\n",
    "## containing only 4 characters\n",
    "www=[word for word in words if len(word)>=4]\n",
    "print(www)"
   ]
  },
  {
   "cell_type": "code",
   "execution_count": null,
   "id": "0a2cb1a4",
   "metadata": {},
   "outputs": [],
   "source": []
  }
 ],
 "metadata": {
  "kernelspec": {
   "display_name": "Python 3 (ipykernel)",
   "language": "python",
   "name": "python3"
  },
  "language_info": {
   "codemirror_mode": {
    "name": "ipython",
    "version": 3
   },
   "file_extension": ".py",
   "mimetype": "text/x-python",
   "name": "python",
   "nbconvert_exporter": "python",
   "pygments_lexer": "ipython3",
   "version": "3.11.7"
  }
 },
 "nbformat": 4,
 "nbformat_minor": 5
}
